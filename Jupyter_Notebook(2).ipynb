#diplay the output
print("Jupyter_Notebook(2")
